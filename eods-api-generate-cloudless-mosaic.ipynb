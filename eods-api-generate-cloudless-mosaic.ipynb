{
 "cells": [
  {
   "cell_type": "markdown",
   "metadata": {},
   "source": [
    "# Defra Earth Observation Data Service API"
   ]
  },
  {
   "cell_type": "markdown",
   "metadata": {},
   "source": [
    "# Introduction \n",
    "This notebook has been created to introduce and test the Defra Earth Observation Data Service API.  Follow the three steps below to import libraries and configuration file, apply query parameters to filter available data, and create a parameterised URL using the api/layers endpoint with query parameters for date, geometry and satellite.  "
   ]
  },
  {
   "cell_type": "markdown",
   "metadata": {},
   "source": [
    "## 1) Import libraries and configuration file\n",
    "Here we *import* the libraries required to run this notebook.\n",
    "If there are any errors when running this cell (all cells can be run using *'Shift-Return'*) then check that the libraries were correctly installed through **Conda** or the package manager that you use.\n",
    "\n",
    "Before continuing with this notebook, ensure that the **USERNAME** and **ACCESS_TOKEN** parameters in the _config.py_ file relate to the username to be used for the following commands.\n",
    "\n",
    "Check all other _config.py_ parameters are as you would expect them, especially the URL and GEOM parameters."
   ]
  },
  {
   "cell_type": "code",
   "execution_count": 11,
   "metadata": {},
   "outputs": [
    {
     "data": {
      "text/plain": [
       "<module 'config' from 'C:\\\\Users\\\\Kostas.Sideris\\\\config.py'>"
      ]
     },
     "execution_count": 11,
     "metadata": {},
     "output_type": "execute_result"
    }
   ],
   "source": [
    "# Import general and geospatial data handling libraries\n",
    "import urllib3, requests, os, importlib, json\n",
    "import logging\n",
    "import pandas as pd\n",
    "from pandas.io.json import json_normalize\n",
    "from IPython.display import Image\n",
    "from datetime import datetime\n",
    "import time\n",
    "import os\n",
    "import pathlib\n",
    "from pathlib import Path\n",
    "# Import your configuration file\n",
    "import config\n",
    "# configure specific library calls\n",
    "importlib.reload(config)"
   ]
  },
  {
   "cell_type": "code",
   "execution_count": 12,
   "metadata": {},
   "outputs": [],
   "source": [
    "# initialise notebook\n",
    "urllib3.disable_warnings(urllib3.exceptions.InsecureRequestWarning)\n",
    "pd.options.display.max_colwidth = 100\n",
    "\n",
    "output_fmt='%Y%m%dT%H%M%S'\n",
    "pretty_fmt='%Y-%m-%d %H:%M:%S'\n",
    "\n",
    "# create output directory if it does not exist\n",
    "output_dir = Path(Path.cwd() / 'data')\n",
    "if not output_dir.is_dir():\n",
    "    output_dir.mkdir()"
   ]
  },
  {
   "cell_type": "markdown",
   "metadata": {},
   "source": [
    "## 2) Configure query parameters\n",
    "The next cell sets a series of query parameters for searching through the data on the system. You can change these and re-run the cell to investigate different scenarios. "
   ]
  },
  {
   "cell_type": "code",
   "execution_count": 19,
   "metadata": {},
   "outputs": [],
   "source": [
    "# configure variables\n",
    "DATE_RANGE_START = '2019-01-01'\n",
    "DATE_RANGE_END = '2019-06-01'\n",
    "SATELLITE_ID = 2\n",
    "TITLE = 'S2A'\n",
    "TYPE = 'raster'\n",
    "GEOM = \"POLYGON((-0.09799 51.49697,-0.08799 51.49697,-0.08799 51.48697,-0.09799 51.48697,-0.09799 51.49697))\"\n",
    "# User should select APPLY_MIN_CLOUD_FUNCTION == True with APPLY_FILTERS == True\n",
    "APPLY_FILTERS = True\n",
    "APPLY_MIN_CLOUD_FUNCTION = True\n",
    "\n",
    "# search locations\n",
    "# England-wide footprint\n",
    "# GEOM = \"POLYGON((-3.70583842728179391 55.44991031769518486, -2.13623226289823265 55.44991031769518486, -0.53426308481603968 55.43372881084587078, -0.58280760536398546 54.54374593413353978, -0.63135212591193124 53.65376305742121588, 0.84116499737574024 53.58903703002395247, 2.31368212066341172 53.65376305742121588, 2.3622266412113575 52.76378018070888487, 2.39458965490998743 51.84143429029792571, 2.39458965490998743 50.90290689303765248, 2.3622266412113575 50.07765004372258488, 0.9867985590195758 50.04528703002395673, 0.53371636723875326 49.9967425094760074, -0.82553020810371081 50.04528703002395673, -2.23332130399412243 50.06146853687327081, -3.60874938618590413 50.04528703002395673, -5.42107815330919074 49.9967425094760074, -6.82886924919960148 50.04528703002395673, -5.50198568755576645 50.17473908481847644, -5.40489664645987578 50.87054387933902433, -3.6249308930352182 50.91908839988696656, -3.70583842728179391 55.44991031769518486))\"\n",
    "# small London footprint\n",
    "# GEOM = \"POLYGON((-0.09799 51.49697,-0.08799 51.49697,-0.08799 51.48697,-0.09799 51.48697,-0.09799 51.49697))\"\n",
    "\n",
    "try:\n",
    "    assert not (APPLY_FILTERS == False and APPLY_MIN_CLOUD_FUNCTION == True)\n",
    "except AssertionError as err:\n",
    "    logging.error(\"\\n\\n # CONFIG ERROR! \\n If you want to use APPLY_MIN_CLOUD_FUNCTION, then set APPLY_FILTERS to 'True'\")\n",
    "    raise err\n",
    "\n",
    "# do config parameter validation. ## User needs to select APPLY_MIN_CLOUD_FUNCTION == True and SATELLTE_ID == 2\n",
    "try:\n",
    "    assert not (APPLY_MIN_CLOUD_FUNCTION == True and SATELLITE_ID == 1)\n",
    "except AssertionError as err:\n",
    "    logging.error('\\n # CONFIG ERROR \\n You are trying to apply the \"APPLY_MIN_CLOUD_FUNCTION\" but have not set \"SATELLTE_ID\" to \"2\"')\n",
    "    raise err\n",
    "\n",
    "    \n",
    "\n",
    "#****NOTES****\n",
    "#\n",
    "#APPLY_FILTERS = False >> You download all layers from the EO service\n",
    "#APPLY_FILTERS = True >> The above filter parameters will be applied to the api query#\n",
    "#\n",
    "#APPLY_MIN_CLOUD_FUNCTION = False >> Applies to S2 data only, will download all S2 data as per filter parameter spec\n",
    "#APPLY_MIN_CLOUD_FUNCTION = True >> Applies to S2 data only, will only download S2 granules that meet \n",
    "#    the lowest cloud cover criteria for each unique granule reference per orbit\n"
   ]
  },
  {
   "cell_type": "markdown",
   "metadata": {},
   "source": [
    "##  3) Create parameterised URL\n",
    "The following cell creates a parameterised URL using the API 'layers' endpoint and a set of query parameters. Copy the output and paste it into a browser address bar. The resultant page provides an indication of the information returned to this notebook (based on the input parameters) from the server. "
   ]
  },
  {
   "cell_type": "code",
   "execution_count": 20,
   "metadata": {},
   "outputs": [
    {
     "name": "stdout",
     "output_type": "stream",
     "text": [
      "https://earthobs.defra.gov.uk/api/layers/?username=kostas.sideris&api_key=3FKZcj7oGza5DiZ7KBUCVbhMMYLDTl&limit=20000&offset=0&keywords__slug__in=sentinel-2&geometry=POLYGON((-0.09799 51.49697,-0.08799 51.49697,-0.08799 51.48697,-0.09799 51.48697,-0.09799 51.49697))&date__range=2019-01-01%2000:00,2019-06-01%2023:59&title__icontains=S2A&type__in=raster\n"
     ]
    }
   ],
   "source": [
    "# Initialise the required variables using the details in your config file (config.py)\n",
    "\n",
    "# Create URLs for the Geoserver endpoint (gs_end_point), OWS endpoint (serverURL)\n",
    "gsdownload_template_payload = '<?xml version=\"1.0\" encoding=\"UTF-8\"?><wps:Execute version=\"1.0.0\" service=\"WPS\" xmlns:xsi=\"http://www.w3.org/2001/XMLSchema-instance\" xmlns=\"http://www.opengis.net/wps/1.0.0\" xmlns:wfs=\"http://www.opengis.net/wfs\" xmlns:wps=\"http://www.opengis.net/wps/1.0.0\" xmlns:ows=\"http://www.opengis.net/ows/1.1\" xmlns:gml=\"http://www.opengis.net/gml\" xmlns:ogc=\"http://www.opengis.net/ogc\" xmlns:wcs=\"http://www.opengis.net/wcs/1.1.1\" xmlns:xlink=\"http://www.w3.org/1999/xlink\" xsi:schemaLocation=\"http://www.opengis.net/wps/1.0.0 http://schemas.opengis.net/wps/1.0.0/wpsAll.xsd\"><ows:Identifier>gs:Download</ows:Identifier><wps:DataInputs><wps:Input><ows:Identifier>layerName</ows:Identifier><wps:Data><wps:LiteralData>@@@</wps:LiteralData></wps:Data></wps:Input><wps:Input><ows:Identifier>outputFormat</ows:Identifier><wps:Data><wps:LiteralData>image/tiff</wps:LiteralData></wps:Data></wps:Input></wps:DataInputs><wps:ResponseForm><wps:ResponseDocument storeExecuteResponse=\"true\" status=\"true\"><wps:Output asReference=\"true\" mimeType=\"application/zip\"><ows:Identifier>result</ows:Identifier></wps:Output></wps:ResponseDocument></wps:ResponseForm></wps:Execute>'\n",
    "headers = {'Content-type': 'application/xml','User-Agent': 'curl/7.65.1'}\n",
    "wps_server = config.URL + config.WPS_SUF + '?access_token=' + config.ACCESS_TOKEN\n",
    "\n",
    "    \n",
    "# If the APPLY_FILTERS config option is set to True then construct a URL\n",
    "if APPLY_FILTERS:\n",
    "    the_url = config.URL + ('/api/layers/?username=' + config.USERNAME \n",
    "                            + '&api_key=' + config.ACCESS_TOKEN\n",
    "                            + '&limit=20000&offset=0'\n",
    "                            + '&keywords__slug__in=sentinel-' + str(SATELLITE_ID)\n",
    "                            + '&geometry=' + GEOM\n",
    "                            + '&date__range=' + DATE_RANGE_START + '%2000:00,' + DATE_RANGE_END + '%2023:59'\n",
    "                            + '&title__icontains=' + TITLE\n",
    "                            + '&type__in=' + TYPE\n",
    "                           )\n",
    "    \n",
    "# or if the option is not set to True \n",
    "else:\n",
    "    the_url = config.URL + ('/api/layers/?username=' \n",
    "                            + config.USERNAME + '&api_key=' \n",
    "                            + config.ACCESS_TOKEN + '&limit=20000&offset=0')\n",
    "\n",
    "\n",
    "print(the_url)"
   ]
  },
  {
   "cell_type": "markdown",
   "metadata": {},
   "source": [
    "##  4) Make a GET request using the URL above and parse the output to a dataframe"
   ]
  },
  {
   "cell_type": "code",
   "execution_count": 21,
   "metadata": {},
   "outputs": [
    {
     "data": {
      "text/html": [
       "<div>\n",
       "<style scoped>\n",
       "    .dataframe tbody tr th:only-of-type {\n",
       "        vertical-align: middle;\n",
       "    }\n",
       "\n",
       "    .dataframe tbody tr th {\n",
       "        vertical-align: top;\n",
       "    }\n",
       "\n",
       "    .dataframe thead th {\n",
       "        text-align: right;\n",
       "    }\n",
       "</style>\n",
       "<table border=\"1\" class=\"dataframe\">\n",
       "  <thead>\n",
       "    <tr style=\"text-align: right;\">\n",
       "      <th></th>\n",
       "      <th>abstract</th>\n",
       "      <th>alternate</th>\n",
       "      <th>bbox_x0</th>\n",
       "      <th>bbox_x1</th>\n",
       "      <th>bbox_y0</th>\n",
       "      <th>bbox_y1</th>\n",
       "      <th>category__gn_description</th>\n",
       "      <th>constraints_other</th>\n",
       "      <th>csw_type</th>\n",
       "      <th>csw_wkt_geometry</th>\n",
       "      <th>...</th>\n",
       "      <th>supplemental_information</th>\n",
       "      <th>temporal_extent_end</th>\n",
       "      <th>temporal_extent_start</th>\n",
       "      <th>thumbnail_url</th>\n",
       "      <th>title</th>\n",
       "      <th>typename</th>\n",
       "      <th>uuid</th>\n",
       "      <th>granule-ref</th>\n",
       "      <th>orbit-ref</th>\n",
       "      <th>ARCSI_CLOUD_COVER</th>\n",
       "    </tr>\n",
       "  </thead>\n",
       "  <tbody>\n",
       "    <tr>\n",
       "      <th>0</th>\n",
       "      <td>These data have been created by the Department for Environment, Food and Rural Affairs (Defra) i...</td>\n",
       "      <td>geonode:S2A_20190601_lat52lon07_T30UYC_ORB137_utm30n_osgb_vmsk_sharp_rad_srefdem_stdsref</td>\n",
       "      <td>531900.000000000000000</td>\n",
       "      <td>640160.000000000000000</td>\n",
       "      <td>158930.000000000000000</td>\n",
       "      <td>270200.000000000000000</td>\n",
       "      <td>imagerybasemapsearthcover</td>\n",
       "      <td>Other Restrictions</td>\n",
       "      <td>dataset</td>\n",
       "      <td>POLYGON((-0.108823824666 51.2788586054,-0.108823824666 52.3140704528,1.51913063352 52.3140704528...</td>\n",
       "      <td>...</td>\n",
       "      <td>Data Collection Time: 11:06:21\\nARCSI_CLOUD_COVER: 0.3322347402572632\\nARCSI_AOT_RANGE_MAX: 0.5\\...</td>\n",
       "      <td>2019-06-01T11:06:21</td>\n",
       "      <td>2019-06-01T11:06:21</td>\n",
       "      <td>https://earthobs.defra.gov.uk/uploaded/thumbs/layer-8f393973-dadf-4682-8fc0-6e7e3eeb01b0-thumb.png</td>\n",
       "      <td>S2A_20190601_lat52lon07_T30UYC_ORB137_utm30n_osgb_vmsk_sharp_rad_srefdem_stdsref</td>\n",
       "      <td>geonode:S2A_20190601_lat52lon07_T30UYC_ORB137_utm30n_osgb_vmsk_sharp_rad_srefdem_stdsref</td>\n",
       "      <td>8f393973-dadf-4682-8fc0-6e7e3eeb01b0</td>\n",
       "      <td>T30UYC</td>\n",
       "      <td>ORB137</td>\n",
       "      <td>0.3322347402572632</td>\n",
       "    </tr>\n",
       "    <tr>\n",
       "      <th>1</th>\n",
       "      <td>These data have been created by the Department for Environment, Food and Rural Affairs (Defra) i...</td>\n",
       "      <td>geonode:S2A_20190529_lat52lon07_T30UYC_ORB094_utm30n_osgb_vmsk_sharp_rad_srefdem_stdsref</td>\n",
       "      <td>531900.000000000000000</td>\n",
       "      <td>640160.000000000000000</td>\n",
       "      <td>158930.000000000000000</td>\n",
       "      <td>270200.000000000000000</td>\n",
       "      <td>imagerybasemapsearthcover</td>\n",
       "      <td>Other Restrictions</td>\n",
       "      <td>dataset</td>\n",
       "      <td>POLYGON((-0.108823824666 51.2788586054,-0.108823824666 52.3140704528,1.51913063352 52.3140704528...</td>\n",
       "      <td>...</td>\n",
       "      <td>Data Collection Time: 10:56:21\\nARCSI_CLOUD_COVER: 0.9111020565032959\\nARCSI_AOT_RANGE_MAX: 0.5\\...</td>\n",
       "      <td>2019-05-29T10:56:21</td>\n",
       "      <td>2019-05-29T10:56:21</td>\n",
       "      <td>https://earthobs.defra.gov.uk/uploaded/thumbs/layer-9354f283-eaf9-4fa7-9a12-9336905357f8-thumb.png</td>\n",
       "      <td>S2A_20190529_lat52lon07_T30UYC_ORB094_utm30n_osgb_vmsk_sharp_rad_srefdem_stdsref</td>\n",
       "      <td>geonode:S2A_20190529_lat52lon07_T30UYC_ORB094_utm30n_osgb_vmsk_sharp_rad_srefdem_stdsref</td>\n",
       "      <td>9354f283-eaf9-4fa7-9a12-9336905357f8</td>\n",
       "      <td>T30UYC</td>\n",
       "      <td>ORB094</td>\n",
       "      <td>0.9111020565032959</td>\n",
       "    </tr>\n",
       "    <tr>\n",
       "      <th>2</th>\n",
       "      <td>These data have been created by the Department for Environment, Food and Rural Affairs (Defra) i...</td>\n",
       "      <td>geonode:S2A_20190525_lat52lon075_T30UXC_ORB037_utm30n_osgb_vmsk_sharp_rad_srefdem_stdsref</td>\n",
       "      <td>431970.000000000000000</td>\n",
       "      <td>540240.000000000000000</td>\n",
       "      <td>160300.000000000000000</td>\n",
       "      <td>271580.000000000000000</td>\n",
       "      <td>imagerybasemapsearthcover</td>\n",
       "      <td>Other Restrictions</td>\n",
       "      <td>dataset</td>\n",
       "      <td>POLYGON((-1.54241678439 51.3245201724,-1.54241678439 52.3413723269,0.0563450138848 52.3413723269...</td>\n",
       "      <td>...</td>\n",
       "      <td>Data Collection Time: 11:21:21\\nARCSI_CLOUD_COVER: 0.5613343119621277\\nARCSI_AOT_RANGE_MAX: 0.5\\...</td>\n",
       "      <td>2019-05-25T11:21:21</td>\n",
       "      <td>2019-05-25T11:21:21</td>\n",
       "      <td>https://earthobs.defra.gov.uk/uploaded/thumbs/layer-6a13e6e5-3573-46b8-aee5-d1a2eff0a599-thumb.png</td>\n",
       "      <td>S2A_20190525_lat52lon075_T30UXC_ORB037_utm30n_osgb_vmsk_sharp_rad_srefdem_stdsref</td>\n",
       "      <td>geonode:S2A_20190525_lat52lon075_T30UXC_ORB037_utm30n_osgb_vmsk_sharp_rad_srefdem_stdsref</td>\n",
       "      <td>6a13e6e5-3573-46b8-aee5-d1a2eff0a599</td>\n",
       "      <td>T30UXC</td>\n",
       "      <td>ORB037</td>\n",
       "      <td>0.5613343119621277</td>\n",
       "    </tr>\n",
       "    <tr>\n",
       "      <th>3</th>\n",
       "      <td>These data have been created by the Department for Environment, Food and Rural Affairs (Defra) i...</td>\n",
       "      <td>geonode:S2A_20190522_lat52lon075_T30UXC_ORB137_utm30n_osgb_vmsk_sharp_rad_srefdem_stdsref</td>\n",
       "      <td>431970.000000000000000</td>\n",
       "      <td>540240.000000000000000</td>\n",
       "      <td>160300.000000000000000</td>\n",
       "      <td>271580.000000000000000</td>\n",
       "      <td>imagerybasemapsearthcover</td>\n",
       "      <td>Other Restrictions</td>\n",
       "      <td>dataset</td>\n",
       "      <td>POLYGON((-1.54241678439 51.3245201724,-1.54241678439 52.3413723269,0.0563450138848 52.3413723269...</td>\n",
       "      <td>...</td>\n",
       "      <td>Data Collection Time: 11:06:21\\nARCSI_CLOUD_COVER: 0.9316290616989136\\nARCSI_AOT_RANGE_MAX: 0.5\\...</td>\n",
       "      <td>2019-05-22T11:06:21</td>\n",
       "      <td>2019-05-22T11:06:21</td>\n",
       "      <td>https://earthobs.defra.gov.uk/uploaded/thumbs/layer-3389531c-b884-4f3b-8208-57e07b7b53c8-thumb.png</td>\n",
       "      <td>S2A_20190522_lat52lon075_T30UXC_ORB137_utm30n_osgb_vmsk_sharp_rad_srefdem_stdsref</td>\n",
       "      <td>geonode:S2A_20190522_lat52lon075_T30UXC_ORB137_utm30n_osgb_vmsk_sharp_rad_srefdem_stdsref</td>\n",
       "      <td>3389531c-b884-4f3b-8208-57e07b7b53c8</td>\n",
       "      <td>T30UXC</td>\n",
       "      <td>ORB137</td>\n",
       "      <td>0.9316290616989136</td>\n",
       "    </tr>\n",
       "    <tr>\n",
       "      <th>4</th>\n",
       "      <td>These data have been created by the Department for Environment, Food and Rural Affairs (Defra) i...</td>\n",
       "      <td>geonode:S2A_20190522_lat52lon07_T30UYC_ORB137_utm30n_osgb_vmsk_sharp_rad_srefdem_stdsref</td>\n",
       "      <td>531900.000000000000000</td>\n",
       "      <td>640160.000000000000000</td>\n",
       "      <td>158930.000000000000000</td>\n",
       "      <td>270200.000000000000000</td>\n",
       "      <td>imagerybasemapsearthcover</td>\n",
       "      <td>Other Restrictions</td>\n",
       "      <td>dataset</td>\n",
       "      <td>POLYGON((-0.108823824666 51.2788586054,-0.108823824666 52.3140704528,1.51913063352 52.3140704528...</td>\n",
       "      <td>...</td>\n",
       "      <td>Data Collection Time: 11:06:21\\nARCSI_CLOUD_COVER: 0.6094983816146851\\nARCSI_AOT_RANGE_MAX: 0.5\\...</td>\n",
       "      <td>2019-05-22T11:06:21</td>\n",
       "      <td>2019-05-22T11:06:21</td>\n",
       "      <td>https://earthobs.defra.gov.uk/uploaded/thumbs/layer-7bd85b50-76bd-4308-ac72-7288177d588c-thumb.png</td>\n",
       "      <td>S2A_20190522_lat52lon07_T30UYC_ORB137_utm30n_osgb_vmsk_sharp_rad_srefdem_stdsref</td>\n",
       "      <td>geonode:S2A_20190522_lat52lon07_T30UYC_ORB137_utm30n_osgb_vmsk_sharp_rad_srefdem_stdsref</td>\n",
       "      <td>7bd85b50-76bd-4308-ac72-7288177d588c</td>\n",
       "      <td>T30UYC</td>\n",
       "      <td>ORB137</td>\n",
       "      <td>0.6094983816146851</td>\n",
       "    </tr>\n",
       "  </tbody>\n",
       "</table>\n",
       "<p>5 rows × 50 columns</p>\n",
       "</div>"
      ],
      "text/plain": [
       "                                                                                              abstract  \\\n",
       "0  These data have been created by the Department for Environment, Food and Rural Affairs (Defra) i...   \n",
       "1  These data have been created by the Department for Environment, Food and Rural Affairs (Defra) i...   \n",
       "2  These data have been created by the Department for Environment, Food and Rural Affairs (Defra) i...   \n",
       "3  These data have been created by the Department for Environment, Food and Rural Affairs (Defra) i...   \n",
       "4  These data have been created by the Department for Environment, Food and Rural Affairs (Defra) i...   \n",
       "\n",
       "                                                                                   alternate  \\\n",
       "0   geonode:S2A_20190601_lat52lon07_T30UYC_ORB137_utm30n_osgb_vmsk_sharp_rad_srefdem_stdsref   \n",
       "1   geonode:S2A_20190529_lat52lon07_T30UYC_ORB094_utm30n_osgb_vmsk_sharp_rad_srefdem_stdsref   \n",
       "2  geonode:S2A_20190525_lat52lon075_T30UXC_ORB037_utm30n_osgb_vmsk_sharp_rad_srefdem_stdsref   \n",
       "3  geonode:S2A_20190522_lat52lon075_T30UXC_ORB137_utm30n_osgb_vmsk_sharp_rad_srefdem_stdsref   \n",
       "4   geonode:S2A_20190522_lat52lon07_T30UYC_ORB137_utm30n_osgb_vmsk_sharp_rad_srefdem_stdsref   \n",
       "\n",
       "                  bbox_x0                 bbox_x1                 bbox_y0  \\\n",
       "0  531900.000000000000000  640160.000000000000000  158930.000000000000000   \n",
       "1  531900.000000000000000  640160.000000000000000  158930.000000000000000   \n",
       "2  431970.000000000000000  540240.000000000000000  160300.000000000000000   \n",
       "3  431970.000000000000000  540240.000000000000000  160300.000000000000000   \n",
       "4  531900.000000000000000  640160.000000000000000  158930.000000000000000   \n",
       "\n",
       "                  bbox_y1   category__gn_description   constraints_other  \\\n",
       "0  270200.000000000000000  imagerybasemapsearthcover  Other Restrictions   \n",
       "1  270200.000000000000000  imagerybasemapsearthcover  Other Restrictions   \n",
       "2  271580.000000000000000  imagerybasemapsearthcover  Other Restrictions   \n",
       "3  271580.000000000000000  imagerybasemapsearthcover  Other Restrictions   \n",
       "4  270200.000000000000000  imagerybasemapsearthcover  Other Restrictions   \n",
       "\n",
       "  csw_type  \\\n",
       "0  dataset   \n",
       "1  dataset   \n",
       "2  dataset   \n",
       "3  dataset   \n",
       "4  dataset   \n",
       "\n",
       "                                                                                      csw_wkt_geometry  \\\n",
       "0  POLYGON((-0.108823824666 51.2788586054,-0.108823824666 52.3140704528,1.51913063352 52.3140704528...   \n",
       "1  POLYGON((-0.108823824666 51.2788586054,-0.108823824666 52.3140704528,1.51913063352 52.3140704528...   \n",
       "2  POLYGON((-1.54241678439 51.3245201724,-1.54241678439 52.3413723269,0.0563450138848 52.3413723269...   \n",
       "3  POLYGON((-1.54241678439 51.3245201724,-1.54241678439 52.3413723269,0.0563450138848 52.3413723269...   \n",
       "4  POLYGON((-0.108823824666 51.2788586054,-0.108823824666 52.3140704528,1.51913063352 52.3140704528...   \n",
       "\n",
       "   ...  \\\n",
       "0  ...   \n",
       "1  ...   \n",
       "2  ...   \n",
       "3  ...   \n",
       "4  ...   \n",
       "\n",
       "                                                                              supplemental_information  \\\n",
       "0  Data Collection Time: 11:06:21\\nARCSI_CLOUD_COVER: 0.3322347402572632\\nARCSI_AOT_RANGE_MAX: 0.5\\...   \n",
       "1  Data Collection Time: 10:56:21\\nARCSI_CLOUD_COVER: 0.9111020565032959\\nARCSI_AOT_RANGE_MAX: 0.5\\...   \n",
       "2  Data Collection Time: 11:21:21\\nARCSI_CLOUD_COVER: 0.5613343119621277\\nARCSI_AOT_RANGE_MAX: 0.5\\...   \n",
       "3  Data Collection Time: 11:06:21\\nARCSI_CLOUD_COVER: 0.9316290616989136\\nARCSI_AOT_RANGE_MAX: 0.5\\...   \n",
       "4  Data Collection Time: 11:06:21\\nARCSI_CLOUD_COVER: 0.6094983816146851\\nARCSI_AOT_RANGE_MAX: 0.5\\...   \n",
       "\n",
       "   temporal_extent_end temporal_extent_start  \\\n",
       "0  2019-06-01T11:06:21   2019-06-01T11:06:21   \n",
       "1  2019-05-29T10:56:21   2019-05-29T10:56:21   \n",
       "2  2019-05-25T11:21:21   2019-05-25T11:21:21   \n",
       "3  2019-05-22T11:06:21   2019-05-22T11:06:21   \n",
       "4  2019-05-22T11:06:21   2019-05-22T11:06:21   \n",
       "\n",
       "                                                                                        thumbnail_url  \\\n",
       "0  https://earthobs.defra.gov.uk/uploaded/thumbs/layer-8f393973-dadf-4682-8fc0-6e7e3eeb01b0-thumb.png   \n",
       "1  https://earthobs.defra.gov.uk/uploaded/thumbs/layer-9354f283-eaf9-4fa7-9a12-9336905357f8-thumb.png   \n",
       "2  https://earthobs.defra.gov.uk/uploaded/thumbs/layer-6a13e6e5-3573-46b8-aee5-d1a2eff0a599-thumb.png   \n",
       "3  https://earthobs.defra.gov.uk/uploaded/thumbs/layer-3389531c-b884-4f3b-8208-57e07b7b53c8-thumb.png   \n",
       "4  https://earthobs.defra.gov.uk/uploaded/thumbs/layer-7bd85b50-76bd-4308-ac72-7288177d588c-thumb.png   \n",
       "\n",
       "                                                                               title  \\\n",
       "0   S2A_20190601_lat52lon07_T30UYC_ORB137_utm30n_osgb_vmsk_sharp_rad_srefdem_stdsref   \n",
       "1   S2A_20190529_lat52lon07_T30UYC_ORB094_utm30n_osgb_vmsk_sharp_rad_srefdem_stdsref   \n",
       "2  S2A_20190525_lat52lon075_T30UXC_ORB037_utm30n_osgb_vmsk_sharp_rad_srefdem_stdsref   \n",
       "3  S2A_20190522_lat52lon075_T30UXC_ORB137_utm30n_osgb_vmsk_sharp_rad_srefdem_stdsref   \n",
       "4   S2A_20190522_lat52lon07_T30UYC_ORB137_utm30n_osgb_vmsk_sharp_rad_srefdem_stdsref   \n",
       "\n",
       "                                                                                    typename  \\\n",
       "0   geonode:S2A_20190601_lat52lon07_T30UYC_ORB137_utm30n_osgb_vmsk_sharp_rad_srefdem_stdsref   \n",
       "1   geonode:S2A_20190529_lat52lon07_T30UYC_ORB094_utm30n_osgb_vmsk_sharp_rad_srefdem_stdsref   \n",
       "2  geonode:S2A_20190525_lat52lon075_T30UXC_ORB037_utm30n_osgb_vmsk_sharp_rad_srefdem_stdsref   \n",
       "3  geonode:S2A_20190522_lat52lon075_T30UXC_ORB137_utm30n_osgb_vmsk_sharp_rad_srefdem_stdsref   \n",
       "4   geonode:S2A_20190522_lat52lon07_T30UYC_ORB137_utm30n_osgb_vmsk_sharp_rad_srefdem_stdsref   \n",
       "\n",
       "                                   uuid granule-ref  orbit-ref  \\\n",
       "0  8f393973-dadf-4682-8fc0-6e7e3eeb01b0      T30UYC     ORB137   \n",
       "1  9354f283-eaf9-4fa7-9a12-9336905357f8      T30UYC     ORB094   \n",
       "2  6a13e6e5-3573-46b8-aee5-d1a2eff0a599      T30UXC     ORB037   \n",
       "3  3389531c-b884-4f3b-8208-57e07b7b53c8      T30UXC     ORB137   \n",
       "4  7bd85b50-76bd-4308-ac72-7288177d588c      T30UYC     ORB137   \n",
       "\n",
       "    ARCSI_CLOUD_COVER  \n",
       "0  0.3322347402572632  \n",
       "1  0.9111020565032959  \n",
       "2  0.5613343119621277  \n",
       "3  0.9316290616989136  \n",
       "4  0.6094983816146851  \n",
       "\n",
       "[5 rows x 50 columns]"
      ]
     },
     "execution_count": 21,
     "metadata": {},
     "output_type": "execute_result"
    }
   ],
   "source": [
    "# make the request to the API and parse the output to a pandas dataframe\n",
    "try:\n",
    "    # parse json response from the geonode api to a pandas dataframe object\n",
    "    payload = requests.get(url=the_url,headers=headers)\n",
    "\n",
    "    # create a json object of the api payload content\n",
    "    the_json = json.loads(payload.content)\n",
    "\n",
    "    # load json to pandas dataframe\n",
    "    df_full_layer_list = json_normalize(the_json, 'objects')\n",
    "except:\n",
    "    raise Exception('ERROR. The the server response is not correctly formed. Please check you authentication token and internet connection')\n",
    "\n",
    "if len(df_full_layer_list) == 0:\n",
    "    raise Exception('ERROR. The API response was empty, no data to process or download, check the filters match data in the EO Portal')\n",
    "\n",
    "# add granule reference and extract ARCSI_CLOUD_COVER from supplement information value\n",
    "if SATELLITE_ID == 2:\n",
    "    df_full_layer_list['granule-ref'] = df_full_layer_list['title'].str.split('_',n=4).str[3]\n",
    "    df_full_layer_list['orbit-ref'] = df_full_layer_list['title'].str.split('_',n=5).str[-2]\n",
    "    df_full_layer_list['ARCSI_CLOUD_COVER'] = df_full_layer_list['supplemental_information'].str.split(n=6).str[5]    \n",
    "    \n",
    "# show first five rows of the dataframe\n",
    "df_full_layer_list.head(5)"
   ]
  },
  {
   "cell_type": "markdown",
   "metadata": {},
   "source": [
    "##  5) Sort the dataframe by % cloud cover and group by granule name and orbit \n",
    "The following cell sorts the dataframe by % cloud cover ascending and groups the results to show the lowest cloud cover per granule, and per granule per relative orbit.  This is important because the imagery with the lowest cloud may be from an orbit where the granule lies on the edge of the swath and therefore does not provide complete coverage of the granule footprint."
   ]
  },
  {
   "cell_type": "code",
   "execution_count": 22,
   "metadata": {},
   "outputs": [],
   "source": [
    "if APPLY_MIN_CLOUD_FUNCTION and SATELLITE_ID == 2:\n",
    "    df_min_cloud_per_granule = df_full_layer_list.sort_values(\"ARCSI_CLOUD_COVER\").groupby([\"granule-ref\"], as_index=False).first()  \n",
    "    df_min_cloud_per_granule_per_orbit = df_full_layer_list.sort_values(\"ARCSI_CLOUD_COVER\").groupby([\"granule-ref\",'orbit-ref'], as_index=False).first()"
   ]
  },
  {
   "cell_type": "markdown",
   "metadata": {},
   "source": [
    "##  6) View and download the results "
   ]
  },
  {
   "cell_type": "code",
   "execution_count": 23,
   "metadata": {},
   "outputs": [
    {
     "data": {
      "text/plain": [
       "Index(['granule-ref', 'abstract', 'alternate', 'bbox_x0', 'bbox_x1', 'bbox_y0',\n",
       "       'bbox_y1', 'category__gn_description', 'constraints_other', 'csw_type',\n",
       "       'csw_wkt_geometry', 'data_quality_statement', 'date', 'date_type',\n",
       "       'default_style', 'detail_url', 'edition', 'geogig_link', 'gtype',\n",
       "       'has_time', 'id', 'is_approved', 'is_published', 'keywords', 'language',\n",
       "       'license', 'maintenance_frequency', 'name', 'online', 'owner__username',\n",
       "       'owner_name', 'popular_count', 'purpose', 'rating', 'regions',\n",
       "       'resource_uri', 'restriction_code_type', 'share_count',\n",
       "       'spatial_representation_type', 'srid', 'store_type',\n",
       "       'supplemental_information', 'temporal_extent_end',\n",
       "       'temporal_extent_start', 'thumbnail_url', 'title', 'typename', 'uuid',\n",
       "       'orbit-ref', 'ARCSI_CLOUD_COVER'],\n",
       "      dtype='object')"
      ]
     },
     "execution_count": 23,
     "metadata": {},
     "output_type": "execute_result"
    }
   ],
   "source": [
    "# list the column headers of the 'min cloud per granule' data frame\n",
    "df_min_cloud_per_granule.columns"
   ]
  },
  {
   "cell_type": "code",
   "execution_count": 24,
   "metadata": {},
   "outputs": [
    {
     "data": {
      "text/html": [
       "<div>\n",
       "<style scoped>\n",
       "    .dataframe tbody tr th:only-of-type {\n",
       "        vertical-align: middle;\n",
       "    }\n",
       "\n",
       "    .dataframe tbody tr th {\n",
       "        vertical-align: top;\n",
       "    }\n",
       "\n",
       "    .dataframe thead th {\n",
       "        text-align: right;\n",
       "    }\n",
       "</style>\n",
       "<table border=\"1\" class=\"dataframe\">\n",
       "  <thead>\n",
       "    <tr style=\"text-align: right;\">\n",
       "      <th></th>\n",
       "      <th>granule-ref</th>\n",
       "      <th>orbit-ref</th>\n",
       "      <th>date</th>\n",
       "      <th>ARCSI_CLOUD_COVER</th>\n",
       "    </tr>\n",
       "  </thead>\n",
       "  <tbody>\n",
       "    <tr>\n",
       "      <th>0</th>\n",
       "      <td>T30UXC</td>\n",
       "      <td>ORB037</td>\n",
       "      <td>2019-02-24T11:21:11</td>\n",
       "      <td>0.029151706025004387</td>\n",
       "    </tr>\n",
       "    <tr>\n",
       "      <th>1</th>\n",
       "      <td>T30UYC</td>\n",
       "      <td>ORB094</td>\n",
       "      <td>2019-03-30T10:56:31</td>\n",
       "      <td>0.08980198204517365</td>\n",
       "    </tr>\n",
       "  </tbody>\n",
       "</table>\n",
       "</div>"
      ],
      "text/plain": [
       "  granule-ref orbit-ref                 date     ARCSI_CLOUD_COVER\n",
       "0      T30UXC    ORB037  2019-02-24T11:21:11  0.029151706025004387\n",
       "1      T30UYC    ORB094  2019-03-30T10:56:31   0.08980198204517365"
      ]
     },
     "execution_count": 24,
     "metadata": {},
     "output_type": "execute_result"
    }
   ],
   "source": [
    "# show the 'min cloud per granule' dataframe with just the most relevant columns\n",
    "df_min_cloud_per_granule[[\"granule-ref\",\"orbit-ref\",\"date\",\"ARCSI_CLOUD_COVER\"]]"
   ]
  },
  {
   "cell_type": "code",
   "execution_count": 25,
   "metadata": {},
   "outputs": [],
   "source": [
    "# output the minimum cloud lists as a CSV to a the 'data' directory\n",
    "df_min_cloud_per_granule.to_csv(Path(output_dir / 'min_cloud_per_granule.csv'))\n",
    "df_min_cloud_per_granule_per_orbit.to_csv(Path(output_dir / 'min-cloud-per-granule-per-orbit.csv'))\n",
    "\n",
    "# Check the 'data' directory in your Scripts folder, open the two CSV files"
   ]
  },
  {
   "cell_type": "code",
   "execution_count": 26,
   "metadata": {},
   "outputs": [
    {
     "data": {
      "text/plain": [
       "['S2A_20190224_lat52lon075_T30UXC_ORB037_utm30n_osgb_vmsk_sharp_rad_srefdem_stdsref',\n",
       " 'S2A_20190330_lat52lon07_T30UYC_ORB094_utm30n_osgb_vmsk_sharp_rad_srefdem_stdsref']"
      ]
     },
     "execution_count": 26,
     "metadata": {},
     "output_type": "execute_result"
    }
   ],
   "source": [
    "# show the list of filenames in the 'minimum cloud per granule' list\n",
    "list_to_download = df_min_cloud_per_granule.title.tolist()\n",
    "list_to_download"
   ]
  },
  {
   "cell_type": "code",
   "execution_count": 27,
   "metadata": {},
   "outputs": [
    {
     "data": {
      "text/plain": [
       "['S2A_20190224_lat52lon075_T30UXC_ORB037_utm30n_osgb_vmsk_sharp_rad_srefdem_stdsref',\n",
       " 'S2A_20190330_lat52lon075_T30UXC_ORB094_utm30n_osgb_vmsk_sharp_rad_srefdem_stdsref',\n",
       " 'S2A_20190221_lat52lon075_T30UXC_ORB137_utm30n_osgb_vmsk_sharp_rad_srefdem_stdsref',\n",
       " 'S2A_20190330_lat52lon07_T30UYC_ORB094_utm30n_osgb_vmsk_sharp_rad_srefdem_stdsref',\n",
       " 'S2A_20190422_lat52lon07_T30UYC_ORB137_utm30n_osgb_vmsk_sharp_rad_srefdem_stdsref']"
      ]
     },
     "execution_count": 27,
     "metadata": {},
     "output_type": "execute_result"
    }
   ],
   "source": [
    "# show the list of filenames in the 'minimum cloud per granule per orbit' list\n",
    "list_to_download_orbit = df_min_cloud_per_granule_per_orbit.title.tolist()\n",
    "list_to_download_orbit"
   ]
  },
  {
   "cell_type": "code",
   "execution_count": null,
   "metadata": {},
   "outputs": [],
   "source": []
  }
 ],
 "metadata": {
  "kernelspec": {
   "display_name": "Python 3",
   "language": "python",
   "name": "python3"
  },
  "language_info": {
   "codemirror_mode": {
    "name": "ipython",
    "version": 3
   },
   "file_extension": ".py",
   "mimetype": "text/x-python",
   "name": "python",
   "nbconvert_exporter": "python",
   "pygments_lexer": "ipython3",
   "version": "3.7.3"
  }
 },
 "nbformat": 4,
 "nbformat_minor": 4
}
